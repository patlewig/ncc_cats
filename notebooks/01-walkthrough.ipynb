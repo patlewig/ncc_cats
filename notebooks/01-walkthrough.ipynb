{
 "cells": [
  {
   "cell_type": "markdown",
   "metadata": {},
   "source": [
    "# EPA NCC"
   ]
  },
  {
   "cell_type": "code",
   "execution_count": 1,
   "metadata": {},
   "outputs": [],
   "source": [
    "import epa_ncc"
   ]
  },
  {
   "cell_type": "code",
   "execution_count": 2,
   "metadata": {},
   "outputs": [],
   "source": [
    "from pathlib import Path\n",
    "import openpyxl"
   ]
  },
  {
   "cell_type": "code",
   "execution_count": 3,
   "metadata": {},
   "outputs": [],
   "source": [
    "TOP = Path.cwd().as_posix().replace('notebooks', '')\n",
    "data_dir = Path(TOP) /'data'/'raw'"
   ]
  },
  {
   "cell_type": "code",
   "execution_count": 4,
   "metadata": {},
   "outputs": [],
   "source": [
    "%%capture\n",
    "#Version 1: Import the functions from the fully installed package.\n",
    "from epa_ncc.ncc_categories.ncc_categories import queryAll, printTree, listCategories, singleQuery"
   ]
  },
  {
   "cell_type": "markdown",
   "metadata": {},
   "source": [
    "## singleQuery()\n",
    "\n",
    "**Function definition:** A quick method for determining whether a chemical belongs in a specific category.\n",
    "\n",
    "- Inputs: \n",
    "  - *one_chem*, individual Chemical, provided as a dictionary or DataFrame slice with the keys/columns speficied above. \n",
    "  - *category_title*, String representing a category title. Possibilities listed below.\n",
    "- Output: *boolean*, value specifies whether x is in Category Title or not"
   ]
  },
  {
   "cell_type": "code",
   "execution_count": 5,
   "metadata": {},
   "outputs": [
    {
     "data": {
      "text/plain": [
       "True"
      ]
     },
     "execution_count": 5,
     "metadata": {},
     "output_type": "execute_result"
    }
   ],
   "source": [
    "from rdkit import Chem\n",
    "import pandas as pd\n",
    "\n",
    "# Single-chemical Dictionary\n",
    "test_chem = {'dsstox_sid': 'DTXSID3060164',\n",
    "  'smiles': 'C1=CC=CC=C1C(C1C=CC=CC=1)C1C=CC=CC=1',\n",
    "  'logp': 5.76,\n",
    "  'ws': 4.07380277804113e-07,\n",
    "  'mol_weight': 244.125200512,\n",
    "  'mol': Chem.MolFromSmiles('C1=CC=CC=C1C(C1C=CC=CC=1)C1C=CC=CC=1')}\n",
    "\n",
    "singleQuery(one_chem = test_chem, category_title = 'Neutral Organics')\n"
   ]
  },
  {
   "cell_type": "code",
   "execution_count": 6,
   "metadata": {},
   "outputs": [],
   "source": [
    "# Single-chemical selection from a DataFrame\n",
    "\n",
    "test_chems = pd.read_csv(data_dir/\"readme_examples.csv\", index_col = [0])\n",
    "\n",
    "# The 'mol' column is not set up for this input (can be checked with test_chems.head()), so we will need to add it first.\n",
    "test_chems['mol'] = [Chem.MolFromSmiles(i) for i in test_chems['smiles']]\n"
   ]
  },
  {
   "cell_type": "code",
   "execution_count": 7,
   "metadata": {},
   "outputs": [],
   "source": [
    "#Select a chemical from the DataFrame\n",
    "my_chem = (test_chems\n",
    " .set_index('dsstox_sid')\n",
    " .loc[['DTXSID2036405']]\n",
    ")"
   ]
  },
  {
   "cell_type": "code",
   "execution_count": 8,
   "metadata": {},
   "outputs": [],
   "source": [
    "\n",
    "my_chem = my_chem.reset_index()"
   ]
  },
  {
   "cell_type": "code",
   "execution_count": 9,
   "metadata": {},
   "outputs": [],
   "source": [
    "# Choose a category\n",
    "my_category = 'Acid Chlorides'\n"
   ]
  },
  {
   "cell_type": "code",
   "execution_count": 10,
   "metadata": {},
   "outputs": [
    {
     "data": {
      "text/plain": [
       "'DTXSID2036405'"
      ]
     },
     "execution_count": 10,
     "metadata": {},
     "output_type": "execute_result"
    }
   ],
   "source": [
    "my_chem['dsstox_sid'].values[0]"
   ]
  },
  {
   "cell_type": "code",
   "execution_count": 11,
   "metadata": {},
   "outputs": [
    {
     "name": "stdout",
     "output_type": "stream",
     "text": [
      "The chemical DTXSID2036405 with smiles [OH-].[OH-].[OH-].[Al+3] is in the Acid Chlorides Category:\n",
      "False\n"
     ]
    }
   ],
   "source": [
    "\n",
    "print(f\"The chemical {my_chem['dsstox_sid'].values[0]} with smiles {my_chem['smiles'].values[0]} is in the Acid Chlorides Category:\")\n",
    "print(singleQuery(one_chem = my_chem, category_title = my_category))"
   ]
  },
  {
   "cell_type": "markdown",
   "metadata": {},
   "source": [
    "With an example of a chemical *not* in a category, we will next look at the function listCategories(), which similarly takes in a single chemical, but instead outputs all categories to which that chemical belongs. "
   ]
  },
  {
   "cell_type": "markdown",
   "metadata": {},
   "source": [
    "## listCategories()\n",
    "\n",
    "**Function Definition:** Given an individual chemical, this function outputs a list of all categories to which the chemical belongs. \n",
    "\n",
    "- Input: *one_chem*, A DataFrame or Dictionary representing a single chemical and its attributes, including dsstox_sid, smiles, logp, ws, mol_weight, and RDKIT MolfromSmiles (labelled as 'mol'). There must be keys or column names to match each of these attribute titles. \n",
    "- Output: *all_cats*, A list of all categories to which the chemical belongs according to the included tests. \n"
   ]
  },
  {
   "cell_type": "code",
   "execution_count": 12,
   "metadata": {},
   "outputs": [
    {
     "data": {
      "text/plain": [
       "['Neutral Organics']"
      ]
     },
     "execution_count": 12,
     "metadata": {},
     "output_type": "execute_result"
    }
   ],
   "source": [
    "# Single-chemical Dictionary\n",
    "test_chem = {'dsstox_sid': 'DTXSID3060164',\n",
    "  'smiles': 'C1=CC=CC=C1C(C1C=CC=CC=1)C1C=CC=CC=1',\n",
    "  'logp': 5.76,\n",
    "  'ws': 4.07380277804113e-07,\n",
    "  'mol_weight': 244.125200512,\n",
    "  'mol': Chem.MolFromSmiles('C1=CC=CC=C1C(C1C=CC=CC=1)C1C=CC=CC=1')}\n",
    "\n",
    "listCategories(test_chem)"
   ]
  },
  {
   "cell_type": "code",
   "execution_count": 13,
   "metadata": {},
   "outputs": [
    {
     "data": {
      "text/plain": [
       "['Aluminum Compounds']"
      ]
     },
     "execution_count": 13,
     "metadata": {},
     "output_type": "execute_result"
    }
   ],
   "source": [
    "#Reuse the single-chemical DataFrame slice from the previous function\n",
    "\n",
    "listCategories(my_chem)"
   ]
  },
  {
   "cell_type": "code",
   "execution_count": 14,
   "metadata": {},
   "outputs": [
    {
     "data": {
      "text/plain": [
       "['Acrylates/Methacrylates (Acute toxicity)',\n",
       " 'Benzotriazoles (Acute toxicity)',\n",
       " 'Benzotriazole-hindered phenols',\n",
       " 'Esters (Acute toxicity)',\n",
       " 'Phenols (Acute toxicity)']"
      ]
     },
     "execution_count": 14,
     "metadata": {},
     "output_type": "execute_result"
    }
   ],
   "source": [
    "#Alternatively, use one of the TSCA chemicals that has multi-category membership:\n",
    "tsca_chems = pd.read_excel(data_dir/\"tsca_categorisation_071124_wmappingdict.xlsx\")\n",
    "\n",
    "#Rename columns for processing by categories.py\n",
    "tsca_chems = tsca_chems.rename(columns={'MolWeight':'mol_weight', 'dtxsid':'dsstox_sid', 'LogP_pred':'logp', \\\n",
    "                                  'WS_pred_mg/L':'ws'})\n",
    "\n",
    "#Since we are only using one chemical, we will not waste computation finding all Mols\n",
    "from rdkit import Chem\n",
    "tsca_chems['mol'] = ''\n",
    "\n",
    "# This is a chemical that outside study showed had category membership to multiple categories.\n",
    "# These lines set the 'mol' column value for this chemical\n",
    "chem_selection = tsca_chems.loc[tsca_chems['dsstox_sid'] == 'DTXSID0072980']\n",
    "tsca_chems.loc[tsca_chems['dsstox_sid'] == 'DTXSID0072980', 'mol'] = Chem.MolFromSmiles(chem_selection['smiles'].values[0])\n",
    "chem_selection = tsca_chems.loc[tsca_chems['dsstox_sid'] == 'DTXSID0072980']\n",
    "\n",
    "listCategories(chem_selection)"
   ]
  },
  {
   "cell_type": "markdown",
   "metadata": {},
   "source": [
    "The previous two functions allow users to quickly find information about an individual chemical, but often one will wantto categorize a full chemical inventory. The main function for this is queryAll()."
   ]
  },
  {
   "cell_type": "markdown",
   "metadata": {},
   "source": [
    "## queryAll()\n",
    "\n",
    "**Function Definition:** Given a set of chemical(s), returns a DataFrame containing one column for chemical DSSTOXSIDs and individual columns for every category included in all_tests. These columns will contain boolean values, thus describing category membership for the chemical set in a fingerprint-like way. \n",
    "\n",
    "- Inputs: \n",
    "  - *chemicals*, A DataFrame, Dictionary, or list of Dictionaries of Chemicals and their attributes, including dsstox_sid, smiles, logp, ws, mol_weight, and RDKIT MolfromSmiles (labelled as 'mol'). There must be keys or column names to match each of these attribute titles.\n",
    "  - *boolean_outputs*, Default value is False. This function will, by default, output category_df with binary values descripbing category membership. If desired, this matrix can instead be output with boolean values by setting boolean_outputs to True. \n",
    "\n",
    "- Output: *category_df*, A DataFrame of chemicals and their category memberships, with an example depicted below:"
   ]
  },
  {
   "cell_type": "code",
   "execution_count": 15,
   "metadata": {},
   "outputs": [
    {
     "data": {
      "text/html": [
       "<div>\n",
       "<style scoped>\n",
       "    .dataframe tbody tr th:only-of-type {\n",
       "        vertical-align: middle;\n",
       "    }\n",
       "\n",
       "    .dataframe tbody tr th {\n",
       "        vertical-align: top;\n",
       "    }\n",
       "\n",
       "    .dataframe thead th {\n",
       "        text-align: right;\n",
       "    }\n",
       "</style>\n",
       "<table border=\"1\" class=\"dataframe\">\n",
       "  <thead>\n",
       "    <tr style=\"text-align: right;\">\n",
       "      <th></th>\n",
       "      <th>chemicals</th>\n",
       "      <th>Acid Chlorides</th>\n",
       "      <th>Acrylamides</th>\n",
       "      <th>Acrylates/Methacrylates (Acute toxicity)</th>\n",
       "      <th>Aldehydes (Acute toxicity)</th>\n",
       "      <th>Aliphatic Amines</th>\n",
       "      <th>Aluminum Compounds</th>\n",
       "      <th>Anilines (Acute toxicity)</th>\n",
       "      <th>Azides (Acute toxicity)</th>\n",
       "      <th>Benzotriazoles (Acute toxicity)</th>\n",
       "      <th>...</th>\n",
       "      <th>Imides (Chronic toxicity)</th>\n",
       "      <th>Organotins (Chronic toxicity)</th>\n",
       "      <th>Phenols (Chronic toxicity)</th>\n",
       "      <th>Phosphinate Esters (Chronic toxicity)</th>\n",
       "      <th>Polynitroaromatics (Chronic toxicity)</th>\n",
       "      <th>Substituted Triazines (Chronic toxicity)</th>\n",
       "      <th>Thiols (Chronic toxicity)</th>\n",
       "      <th>Vinyl Esters (Chronic toxicity)</th>\n",
       "      <th>Diazoniums (Chronic toxicity)</th>\n",
       "      <th>Ethylene Glycol Ethers</th>\n",
       "    </tr>\n",
       "  </thead>\n",
       "  <tbody>\n",
       "    <tr>\n",
       "      <th>0</th>\n",
       "      <td>DTXSID3060164</td>\n",
       "      <td>0</td>\n",
       "      <td>0</td>\n",
       "      <td>0</td>\n",
       "      <td>0</td>\n",
       "      <td>0</td>\n",
       "      <td>0</td>\n",
       "      <td>0</td>\n",
       "      <td>0</td>\n",
       "      <td>0</td>\n",
       "      <td>...</td>\n",
       "      <td>0</td>\n",
       "      <td>0</td>\n",
       "      <td>0</td>\n",
       "      <td>0</td>\n",
       "      <td>0</td>\n",
       "      <td>0</td>\n",
       "      <td>0</td>\n",
       "      <td>0</td>\n",
       "      <td>0</td>\n",
       "      <td>0</td>\n",
       "    </tr>\n",
       "    <tr>\n",
       "      <th>1</th>\n",
       "      <td>DTXSID7060837</td>\n",
       "      <td>0</td>\n",
       "      <td>0</td>\n",
       "      <td>0</td>\n",
       "      <td>0</td>\n",
       "      <td>0</td>\n",
       "      <td>0</td>\n",
       "      <td>0</td>\n",
       "      <td>0</td>\n",
       "      <td>0</td>\n",
       "      <td>...</td>\n",
       "      <td>0</td>\n",
       "      <td>0</td>\n",
       "      <td>0</td>\n",
       "      <td>0</td>\n",
       "      <td>0</td>\n",
       "      <td>0</td>\n",
       "      <td>0</td>\n",
       "      <td>0</td>\n",
       "      <td>0</td>\n",
       "      <td>0</td>\n",
       "    </tr>\n",
       "    <tr>\n",
       "      <th>2</th>\n",
       "      <td>DTXSID9025879</td>\n",
       "      <td>0</td>\n",
       "      <td>0</td>\n",
       "      <td>0</td>\n",
       "      <td>0</td>\n",
       "      <td>0</td>\n",
       "      <td>0</td>\n",
       "      <td>0</td>\n",
       "      <td>0</td>\n",
       "      <td>0</td>\n",
       "      <td>...</td>\n",
       "      <td>0</td>\n",
       "      <td>0</td>\n",
       "      <td>0</td>\n",
       "      <td>0</td>\n",
       "      <td>0</td>\n",
       "      <td>0</td>\n",
       "      <td>0</td>\n",
       "      <td>0</td>\n",
       "      <td>0</td>\n",
       "      <td>0</td>\n",
       "    </tr>\n",
       "  </tbody>\n",
       "</table>\n",
       "<p>3 rows × 66 columns</p>\n",
       "</div>"
      ],
      "text/plain": [
       "       chemicals  Acid Chlorides  Acrylamides  \\\n",
       "0  DTXSID3060164               0            0   \n",
       "1  DTXSID7060837               0            0   \n",
       "2  DTXSID9025879               0            0   \n",
       "\n",
       "   Acrylates/Methacrylates (Acute toxicity)  Aldehydes (Acute toxicity)  \\\n",
       "0                                         0                           0   \n",
       "1                                         0                           0   \n",
       "2                                         0                           0   \n",
       "\n",
       "   Aliphatic Amines  Aluminum Compounds  Anilines (Acute toxicity)  \\\n",
       "0                 0                   0                          0   \n",
       "1                 0                   0                          0   \n",
       "2                 0                   0                          0   \n",
       "\n",
       "   Azides (Acute toxicity)  Benzotriazoles (Acute toxicity)  ...  \\\n",
       "0                        0                                0  ...   \n",
       "1                        0                                0  ...   \n",
       "2                        0                                0  ...   \n",
       "\n",
       "   Imides (Chronic toxicity)  Organotins (Chronic toxicity)  \\\n",
       "0                          0                              0   \n",
       "1                          0                              0   \n",
       "2                          0                              0   \n",
       "\n",
       "   Phenols (Chronic toxicity)  Phosphinate Esters (Chronic toxicity)  \\\n",
       "0                           0                                      0   \n",
       "1                           0                                      0   \n",
       "2                           0                                      0   \n",
       "\n",
       "   Polynitroaromatics (Chronic toxicity)  \\\n",
       "0                                      0   \n",
       "1                                      0   \n",
       "2                                      0   \n",
       "\n",
       "   Substituted Triazines (Chronic toxicity)  Thiols (Chronic toxicity)  \\\n",
       "0                                         0                          0   \n",
       "1                                         0                          0   \n",
       "2                                         0                          0   \n",
       "\n",
       "   Vinyl Esters (Chronic toxicity)  Diazoniums (Chronic toxicity)  \\\n",
       "0                                0                              0   \n",
       "1                                0                              0   \n",
       "2                                0                              0   \n",
       "\n",
       "   Ethylene Glycol Ethers  \n",
       "0                       0  \n",
       "1                       0  \n",
       "2                       0  \n",
       "\n",
       "[3 rows x 66 columns]"
      ]
     },
     "execution_count": 15,
     "metadata": {},
     "output_type": "execute_result"
    }
   ],
   "source": [
    "# List of Dictionaries Input\n",
    "\n",
    "new_test_chems = [{'dsstox_sid': 'DTXSID3060164',\n",
    "  'smiles': 'C1=CC=CC=C1C(C1C=CC=CC=1)C1C=CC=CC=1',\n",
    "  'logp': 5.76,\n",
    "  'ws': 4.07380277804113e-07,\n",
    "  'mol_weight': 244.125200512,\n",
    "  'mol': Chem.MolFromSmiles('C1=CC=CC=C1C(C1C=CC=CC=1)C1C=CC=CC=1')},\n",
    " {'dsstox_sid': 'DTXSID7060837',\n",
    "  'smiles': 'ICCCI',\n",
    "  'logp': 3.02,\n",
    "  'ws': 0.0007413102413009177,\n",
    "  'mol_weight': 295.855896192,\n",
    "  'mol': Chem.MolFromSmiles('ICCCI')},\n",
    " {'dsstox_sid': 'DTXSID9025879',\n",
    "  'smiles': 'OC(=O)C=CC1C=CC(C=CC(O)=O)=CC=1',\n",
    "  'logp': 1.99,\n",
    "  'ws': 0.009120108393559097,\n",
    "  'mol_weight': 218.0579088,\n",
    "  'mol': Chem.MolFromSmiles('OC(=O)C=CC1C=CC(C=CC(O)=O)=CC=1')}]\n",
    "\n",
    "queryAll(new_test_chems)"
   ]
  },
  {
   "cell_type": "code",
   "execution_count": 16,
   "metadata": {},
   "outputs": [
    {
     "data": {
      "text/html": [
       "<div>\n",
       "<style scoped>\n",
       "    .dataframe tbody tr th:only-of-type {\n",
       "        vertical-align: middle;\n",
       "    }\n",
       "\n",
       "    .dataframe tbody tr th {\n",
       "        vertical-align: top;\n",
       "    }\n",
       "\n",
       "    .dataframe thead th {\n",
       "        text-align: right;\n",
       "    }\n",
       "</style>\n",
       "<table border=\"1\" class=\"dataframe\">\n",
       "  <thead>\n",
       "    <tr style=\"text-align: right;\">\n",
       "      <th></th>\n",
       "      <th>chemicals</th>\n",
       "      <th>Acid Chlorides</th>\n",
       "      <th>Acrylamides</th>\n",
       "      <th>Acrylates/Methacrylates (Acute toxicity)</th>\n",
       "      <th>Aldehydes (Acute toxicity)</th>\n",
       "      <th>Aliphatic Amines</th>\n",
       "      <th>Aluminum Compounds</th>\n",
       "      <th>Anilines (Acute toxicity)</th>\n",
       "      <th>Azides (Acute toxicity)</th>\n",
       "      <th>Benzotriazoles (Acute toxicity)</th>\n",
       "      <th>...</th>\n",
       "      <th>Imides (Chronic toxicity)</th>\n",
       "      <th>Organotins (Chronic toxicity)</th>\n",
       "      <th>Phenols (Chronic toxicity)</th>\n",
       "      <th>Phosphinate Esters (Chronic toxicity)</th>\n",
       "      <th>Polynitroaromatics (Chronic toxicity)</th>\n",
       "      <th>Substituted Triazines (Chronic toxicity)</th>\n",
       "      <th>Thiols (Chronic toxicity)</th>\n",
       "      <th>Vinyl Esters (Chronic toxicity)</th>\n",
       "      <th>Diazoniums (Chronic toxicity)</th>\n",
       "      <th>Ethylene Glycol Ethers</th>\n",
       "    </tr>\n",
       "  </thead>\n",
       "  <tbody>\n",
       "    <tr>\n",
       "      <th>0</th>\n",
       "      <td>DTXSID3060164</td>\n",
       "      <td>False</td>\n",
       "      <td>False</td>\n",
       "      <td>False</td>\n",
       "      <td>False</td>\n",
       "      <td>False</td>\n",
       "      <td>False</td>\n",
       "      <td>False</td>\n",
       "      <td>False</td>\n",
       "      <td>False</td>\n",
       "      <td>...</td>\n",
       "      <td>False</td>\n",
       "      <td>False</td>\n",
       "      <td>False</td>\n",
       "      <td>False</td>\n",
       "      <td>False</td>\n",
       "      <td>False</td>\n",
       "      <td>False</td>\n",
       "      <td>False</td>\n",
       "      <td>False</td>\n",
       "      <td>False</td>\n",
       "    </tr>\n",
       "    <tr>\n",
       "      <th>1</th>\n",
       "      <td>DTXSID7060837</td>\n",
       "      <td>False</td>\n",
       "      <td>False</td>\n",
       "      <td>False</td>\n",
       "      <td>False</td>\n",
       "      <td>False</td>\n",
       "      <td>False</td>\n",
       "      <td>False</td>\n",
       "      <td>False</td>\n",
       "      <td>False</td>\n",
       "      <td>...</td>\n",
       "      <td>False</td>\n",
       "      <td>False</td>\n",
       "      <td>False</td>\n",
       "      <td>False</td>\n",
       "      <td>False</td>\n",
       "      <td>False</td>\n",
       "      <td>False</td>\n",
       "      <td>False</td>\n",
       "      <td>False</td>\n",
       "      <td>False</td>\n",
       "    </tr>\n",
       "  </tbody>\n",
       "</table>\n",
       "<p>2 rows × 66 columns</p>\n",
       "</div>"
      ],
      "text/plain": [
       "       chemicals  Acid Chlorides  Acrylamides  \\\n",
       "0  DTXSID3060164           False        False   \n",
       "1  DTXSID7060837           False        False   \n",
       "\n",
       "   Acrylates/Methacrylates (Acute toxicity)  Aldehydes (Acute toxicity)  \\\n",
       "0                                     False                       False   \n",
       "1                                     False                       False   \n",
       "\n",
       "   Aliphatic Amines  Aluminum Compounds  Anilines (Acute toxicity)  \\\n",
       "0             False               False                      False   \n",
       "1             False               False                      False   \n",
       "\n",
       "   Azides (Acute toxicity)  Benzotriazoles (Acute toxicity)  ...  \\\n",
       "0                    False                            False  ...   \n",
       "1                    False                            False  ...   \n",
       "\n",
       "   Imides (Chronic toxicity)  Organotins (Chronic toxicity)  \\\n",
       "0                      False                          False   \n",
       "1                      False                          False   \n",
       "\n",
       "   Phenols (Chronic toxicity)  Phosphinate Esters (Chronic toxicity)  \\\n",
       "0                       False                                  False   \n",
       "1                       False                                  False   \n",
       "\n",
       "   Polynitroaromatics (Chronic toxicity)  \\\n",
       "0                                  False   \n",
       "1                                  False   \n",
       "\n",
       "   Substituted Triazines (Chronic toxicity)  Thiols (Chronic toxicity)  \\\n",
       "0                                     False                      False   \n",
       "1                                     False                      False   \n",
       "\n",
       "   Vinyl Esters (Chronic toxicity)  Diazoniums (Chronic toxicity)  \\\n",
       "0                            False                          False   \n",
       "1                            False                          False   \n",
       "\n",
       "   Ethylene Glycol Ethers  \n",
       "0                   False  \n",
       "1                   False  \n",
       "\n",
       "[2 rows x 66 columns]"
      ]
     },
     "execution_count": 16,
     "metadata": {},
     "output_type": "execute_result"
    }
   ],
   "source": [
    "# Dictionary with multiple entries, boolean values as words rather than numbers\n",
    "\n",
    "test_chems_together = {'dsstox_sid': ['DTXSID3060164','DTXSID7060837'],\n",
    "  'smiles': ['C1=CC=CC=C1C(C1C=CC=CC=1)C1C=CC=CC=1','ICCCI'],\n",
    "  'logp': [5.76,3.02],\n",
    "  'ws': [4.07380277804113e-07,0.0007413102413009177],\n",
    "  'mol_weight': [244.125200512,295.855896192],\n",
    "  'mol': [Chem.MolFromSmiles('C1=CC=CC=C1C(C1C=CC=CC=1)C1C=CC=CC=1'),Chem.MolFromSmiles('ICCCI')]}\n",
    "\n",
    "queryAll(test_chems_together, boolean_outputs=True)"
   ]
  },
  {
   "cell_type": "code",
   "execution_count": 17,
   "metadata": {},
   "outputs": [
    {
     "data": {
      "text/html": [
       "<div>\n",
       "<style scoped>\n",
       "    .dataframe tbody tr th:only-of-type {\n",
       "        vertical-align: middle;\n",
       "    }\n",
       "\n",
       "    .dataframe tbody tr th {\n",
       "        vertical-align: top;\n",
       "    }\n",
       "\n",
       "    .dataframe thead th {\n",
       "        text-align: right;\n",
       "    }\n",
       "</style>\n",
       "<table border=\"1\" class=\"dataframe\">\n",
       "  <thead>\n",
       "    <tr style=\"text-align: right;\">\n",
       "      <th></th>\n",
       "      <th>dsstox_sid</th>\n",
       "      <th>smiles</th>\n",
       "      <th>mol_weight</th>\n",
       "      <th>ws</th>\n",
       "      <th>mol</th>\n",
       "      <th>logp</th>\n",
       "    </tr>\n",
       "    <tr>\n",
       "      <th>Unnamed: 0</th>\n",
       "      <th></th>\n",
       "      <th></th>\n",
       "      <th></th>\n",
       "      <th></th>\n",
       "      <th></th>\n",
       "      <th></th>\n",
       "    </tr>\n",
       "  </thead>\n",
       "  <tbody>\n",
       "    <tr>\n",
       "      <th>0</th>\n",
       "      <td>DTXSID90480751</td>\n",
       "      <td>C[13C](Cl)=O</td>\n",
       "      <td>79.490</td>\n",
       "      <td>1.0000</td>\n",
       "      <td>&lt;rdkit.Chem.rdchem.Mol object at 0x0000014D3FC...</td>\n",
       "      <td>0.380</td>\n",
       "    </tr>\n",
       "    <tr>\n",
       "      <th>1</th>\n",
       "      <td>DTXSID50939730</td>\n",
       "      <td>CC(=C)C([O-])=O</td>\n",
       "      <td>85.083</td>\n",
       "      <td>0.7040</td>\n",
       "      <td>&lt;rdkit.Chem.rdchem.Mol object at 0x0000014D3FC...</td>\n",
       "      <td>0.857</td>\n",
       "    </tr>\n",
       "    <tr>\n",
       "      <th>2</th>\n",
       "      <td>DTXSID2036405</td>\n",
       "      <td>[OH-].[OH-].[OH-].[Al+3]</td>\n",
       "      <td>78.003</td>\n",
       "      <td>28.8000</td>\n",
       "      <td>&lt;rdkit.Chem.rdchem.Mol object at 0x0000014D3FC...</td>\n",
       "      <td>-0.750</td>\n",
       "    </tr>\n",
       "    <tr>\n",
       "      <th>3</th>\n",
       "      <td>DTXSID1024835</td>\n",
       "      <td>O=CC=CC1=CC=CC=C1</td>\n",
       "      <td>132.162</td>\n",
       "      <td>0.0107</td>\n",
       "      <td>&lt;rdkit.Chem.rdchem.Mol object at 0x0000014D3FC...</td>\n",
       "      <td>1.900</td>\n",
       "    </tr>\n",
       "    <tr>\n",
       "      <th>4</th>\n",
       "      <td>DTXSID30878870</td>\n",
       "      <td>[N-]=[N+]=NC1=CC=CC=C1</td>\n",
       "      <td>119.127</td>\n",
       "      <td>0.0218</td>\n",
       "      <td>&lt;rdkit.Chem.rdchem.Mol object at 0x0000014D3FC...</td>\n",
       "      <td>2.590</td>\n",
       "    </tr>\n",
       "  </tbody>\n",
       "</table>\n",
       "</div>"
      ],
      "text/plain": [
       "                dsstox_sid                    smiles  mol_weight       ws  \\\n",
       "Unnamed: 0                                                                  \n",
       "0           DTXSID90480751              C[13C](Cl)=O      79.490   1.0000   \n",
       "1           DTXSID50939730           CC(=C)C([O-])=O      85.083   0.7040   \n",
       "2            DTXSID2036405  [OH-].[OH-].[OH-].[Al+3]      78.003  28.8000   \n",
       "3            DTXSID1024835         O=CC=CC1=CC=CC=C1     132.162   0.0107   \n",
       "4           DTXSID30878870    [N-]=[N+]=NC1=CC=CC=C1     119.127   0.0218   \n",
       "\n",
       "                                                          mol   logp  \n",
       "Unnamed: 0                                                            \n",
       "0           <rdkit.Chem.rdchem.Mol object at 0x0000014D3FC...  0.380  \n",
       "1           <rdkit.Chem.rdchem.Mol object at 0x0000014D3FC...  0.857  \n",
       "2           <rdkit.Chem.rdchem.Mol object at 0x0000014D3FC... -0.750  \n",
       "3           <rdkit.Chem.rdchem.Mol object at 0x0000014D3FC...  1.900  \n",
       "4           <rdkit.Chem.rdchem.Mol object at 0x0000014D3FC...  2.590  "
      ]
     },
     "execution_count": 17,
     "metadata": {},
     "output_type": "execute_result"
    }
   ],
   "source": [
    "# DataFrame input\n",
    "\n",
    "test_chems_df = pd.read_csv(\"../data/raw/readme_examples.csv\").set_index(\"Unnamed: 0\")\n",
    "\n",
    "test_chems_df.head()"
   ]
  },
  {
   "cell_type": "code",
   "execution_count": 18,
   "metadata": {},
   "outputs": [],
   "source": [
    "#Those \"mol\" are just strings, since a csv cannot save an rdkit Mol item\n",
    "\n",
    "#Fix them \n",
    "test_chems_df['mol'] = [Chem.MolFromSmiles(i) for i in test_chems_df['smiles']]"
   ]
  },
  {
   "cell_type": "code",
   "execution_count": 19,
   "metadata": {},
   "outputs": [
    {
     "data": {
      "text/html": [
       "<div>\n",
       "<style scoped>\n",
       "    .dataframe tbody tr th:only-of-type {\n",
       "        vertical-align: middle;\n",
       "    }\n",
       "\n",
       "    .dataframe tbody tr th {\n",
       "        vertical-align: top;\n",
       "    }\n",
       "\n",
       "    .dataframe thead th {\n",
       "        text-align: right;\n",
       "    }\n",
       "</style>\n",
       "<table border=\"1\" class=\"dataframe\">\n",
       "  <thead>\n",
       "    <tr style=\"text-align: right;\">\n",
       "      <th></th>\n",
       "      <th>chemicals</th>\n",
       "      <th>Acid Chlorides</th>\n",
       "      <th>Acrylamides</th>\n",
       "      <th>Acrylates/Methacrylates (Acute toxicity)</th>\n",
       "      <th>Aldehydes (Acute toxicity)</th>\n",
       "      <th>Aliphatic Amines</th>\n",
       "      <th>Aluminum Compounds</th>\n",
       "      <th>Anilines (Acute toxicity)</th>\n",
       "      <th>Azides (Acute toxicity)</th>\n",
       "      <th>Benzotriazoles (Acute toxicity)</th>\n",
       "      <th>...</th>\n",
       "      <th>Imides (Chronic toxicity)</th>\n",
       "      <th>Organotins (Chronic toxicity)</th>\n",
       "      <th>Phenols (Chronic toxicity)</th>\n",
       "      <th>Phosphinate Esters (Chronic toxicity)</th>\n",
       "      <th>Polynitroaromatics (Chronic toxicity)</th>\n",
       "      <th>Substituted Triazines (Chronic toxicity)</th>\n",
       "      <th>Thiols (Chronic toxicity)</th>\n",
       "      <th>Vinyl Esters (Chronic toxicity)</th>\n",
       "      <th>Diazoniums (Chronic toxicity)</th>\n",
       "      <th>Ethylene Glycol Ethers</th>\n",
       "    </tr>\n",
       "  </thead>\n",
       "  <tbody>\n",
       "    <tr>\n",
       "      <th>0</th>\n",
       "      <td>DTXSID90480751</td>\n",
       "      <td>1</td>\n",
       "      <td>0</td>\n",
       "      <td>0</td>\n",
       "      <td>0</td>\n",
       "      <td>0</td>\n",
       "      <td>0</td>\n",
       "      <td>0</td>\n",
       "      <td>0</td>\n",
       "      <td>0</td>\n",
       "      <td>...</td>\n",
       "      <td>0</td>\n",
       "      <td>0</td>\n",
       "      <td>0</td>\n",
       "      <td>0</td>\n",
       "      <td>0</td>\n",
       "      <td>0</td>\n",
       "      <td>0</td>\n",
       "      <td>0</td>\n",
       "      <td>0</td>\n",
       "      <td>0</td>\n",
       "    </tr>\n",
       "    <tr>\n",
       "      <th>1</th>\n",
       "      <td>DTXSID50939730</td>\n",
       "      <td>0</td>\n",
       "      <td>0</td>\n",
       "      <td>1</td>\n",
       "      <td>0</td>\n",
       "      <td>0</td>\n",
       "      <td>0</td>\n",
       "      <td>0</td>\n",
       "      <td>0</td>\n",
       "      <td>0</td>\n",
       "      <td>...</td>\n",
       "      <td>0</td>\n",
       "      <td>0</td>\n",
       "      <td>0</td>\n",
       "      <td>0</td>\n",
       "      <td>0</td>\n",
       "      <td>0</td>\n",
       "      <td>0</td>\n",
       "      <td>0</td>\n",
       "      <td>0</td>\n",
       "      <td>0</td>\n",
       "    </tr>\n",
       "    <tr>\n",
       "      <th>2</th>\n",
       "      <td>DTXSID2036405</td>\n",
       "      <td>0</td>\n",
       "      <td>0</td>\n",
       "      <td>0</td>\n",
       "      <td>0</td>\n",
       "      <td>0</td>\n",
       "      <td>1</td>\n",
       "      <td>0</td>\n",
       "      <td>0</td>\n",
       "      <td>0</td>\n",
       "      <td>...</td>\n",
       "      <td>0</td>\n",
       "      <td>0</td>\n",
       "      <td>0</td>\n",
       "      <td>0</td>\n",
       "      <td>0</td>\n",
       "      <td>0</td>\n",
       "      <td>0</td>\n",
       "      <td>0</td>\n",
       "      <td>0</td>\n",
       "      <td>0</td>\n",
       "    </tr>\n",
       "    <tr>\n",
       "      <th>3</th>\n",
       "      <td>DTXSID1024835</td>\n",
       "      <td>0</td>\n",
       "      <td>0</td>\n",
       "      <td>0</td>\n",
       "      <td>1</td>\n",
       "      <td>0</td>\n",
       "      <td>0</td>\n",
       "      <td>0</td>\n",
       "      <td>0</td>\n",
       "      <td>0</td>\n",
       "      <td>...</td>\n",
       "      <td>0</td>\n",
       "      <td>0</td>\n",
       "      <td>0</td>\n",
       "      <td>0</td>\n",
       "      <td>0</td>\n",
       "      <td>0</td>\n",
       "      <td>0</td>\n",
       "      <td>0</td>\n",
       "      <td>0</td>\n",
       "      <td>0</td>\n",
       "    </tr>\n",
       "    <tr>\n",
       "      <th>4</th>\n",
       "      <td>DTXSID30878870</td>\n",
       "      <td>0</td>\n",
       "      <td>0</td>\n",
       "      <td>0</td>\n",
       "      <td>0</td>\n",
       "      <td>0</td>\n",
       "      <td>0</td>\n",
       "      <td>0</td>\n",
       "      <td>1</td>\n",
       "      <td>0</td>\n",
       "      <td>...</td>\n",
       "      <td>0</td>\n",
       "      <td>0</td>\n",
       "      <td>0</td>\n",
       "      <td>0</td>\n",
       "      <td>0</td>\n",
       "      <td>0</td>\n",
       "      <td>0</td>\n",
       "      <td>0</td>\n",
       "      <td>0</td>\n",
       "      <td>0</td>\n",
       "    </tr>\n",
       "  </tbody>\n",
       "</table>\n",
       "<p>5 rows × 66 columns</p>\n",
       "</div>"
      ],
      "text/plain": [
       "        chemicals  Acid Chlorides  Acrylamides  \\\n",
       "0  DTXSID90480751               1            0   \n",
       "1  DTXSID50939730               0            0   \n",
       "2   DTXSID2036405               0            0   \n",
       "3   DTXSID1024835               0            0   \n",
       "4  DTXSID30878870               0            0   \n",
       "\n",
       "   Acrylates/Methacrylates (Acute toxicity)  Aldehydes (Acute toxicity)  \\\n",
       "0                                         0                           0   \n",
       "1                                         1                           0   \n",
       "2                                         0                           0   \n",
       "3                                         0                           1   \n",
       "4                                         0                           0   \n",
       "\n",
       "   Aliphatic Amines  Aluminum Compounds  Anilines (Acute toxicity)  \\\n",
       "0                 0                   0                          0   \n",
       "1                 0                   0                          0   \n",
       "2                 0                   1                          0   \n",
       "3                 0                   0                          0   \n",
       "4                 0                   0                          0   \n",
       "\n",
       "   Azides (Acute toxicity)  Benzotriazoles (Acute toxicity)  ...  \\\n",
       "0                        0                                0  ...   \n",
       "1                        0                                0  ...   \n",
       "2                        0                                0  ...   \n",
       "3                        0                                0  ...   \n",
       "4                        1                                0  ...   \n",
       "\n",
       "   Imides (Chronic toxicity)  Organotins (Chronic toxicity)  \\\n",
       "0                          0                              0   \n",
       "1                          0                              0   \n",
       "2                          0                              0   \n",
       "3                          0                              0   \n",
       "4                          0                              0   \n",
       "\n",
       "   Phenols (Chronic toxicity)  Phosphinate Esters (Chronic toxicity)  \\\n",
       "0                           0                                      0   \n",
       "1                           0                                      0   \n",
       "2                           0                                      0   \n",
       "3                           0                                      0   \n",
       "4                           0                                      0   \n",
       "\n",
       "   Polynitroaromatics (Chronic toxicity)  \\\n",
       "0                                      0   \n",
       "1                                      0   \n",
       "2                                      0   \n",
       "3                                      0   \n",
       "4                                      0   \n",
       "\n",
       "   Substituted Triazines (Chronic toxicity)  Thiols (Chronic toxicity)  \\\n",
       "0                                         0                          0   \n",
       "1                                         0                          0   \n",
       "2                                         0                          0   \n",
       "3                                         0                          0   \n",
       "4                                         0                          0   \n",
       "\n",
       "   Vinyl Esters (Chronic toxicity)  Diazoniums (Chronic toxicity)  \\\n",
       "0                                0                              0   \n",
       "1                                0                              0   \n",
       "2                                0                              0   \n",
       "3                                0                              0   \n",
       "4                                0                              0   \n",
       "\n",
       "   Ethylene Glycol Ethers  \n",
       "0                       0  \n",
       "1                       0  \n",
       "2                       0  \n",
       "3                       0  \n",
       "4                       0  \n",
       "\n",
       "[5 rows x 66 columns]"
      ]
     },
     "execution_count": 19,
     "metadata": {},
     "output_type": "execute_result"
    }
   ],
   "source": [
    "queryAll(test_chems_df)"
   ]
  },
  {
   "cell_type": "markdown",
   "metadata": {},
   "source": [
    "The last function is a utility function for understanding the categories. For categories that are built directly from the legacy XML, this function can also show precisely how each chemical is ruled in or out of each category, but for categories that required some repair, the function mainly shows the rules for category membership."
   ]
  },
  {
   "cell_type": "markdown",
   "metadata": {},
   "source": [
    "## printTree()\n",
    "\n",
    "**Function Definition:** Allows the user to view the testing process for determining whether a chemical belongs in a specific category. Can be run with or without a chemical input.\n",
    "\n",
    "- Inputs: \n",
    "    - *one_chem*, Default value of x is None but an individual chemical can also be supplied with the same\n",
    "    constraints as in singleQuery \n",
    "    - *category_title*, String representing a category title. Possibilities listed in [README](../README.md).\n",
    "    - *printer*, Boolean with default value True. If True, then this result will be output to the console as\n",
    "    a print statement. If False, nothing will be printed and the result will instead be a string variable.\n",
    "- Output: *printed logic tree*, Each line of the logic tree will contain the query type and all necessary parameters. If data is provided for x, the last value of each line will contain the boolean value for whether x fulfills that piece of the query. \n",
    "    - For the XML-originating queries, the first value will be the query ID identifying the query in the XML document. \n",
    "    - For hard-coded queries, the first value will instead say CustomQuery and all lines after the first will terminate with \"does not process\", since the functions for all subqueries are contained within the top branch of the tree only."
   ]
  },
  {
   "cell_type": "code",
   "execution_count": 20,
   "metadata": {},
   "outputs": [
    {
     "name": "stdout",
     "output_type": "stream",
     "text": [
      "('1159', 'LogicalQuery', 'And', False)\n",
      "\t('1148', 'b:StructureQuery', 'c12c(cccc1)[#7]=,:[#7][#7v3]2', False)\n",
      "\t('1150', 'b:ParameterQuery', 'log Kow', 5.0, 'GreaterThan', False)\n",
      "\t('1153', 'b:ParameterQuery', 'log Kow', 8.0, 'LessThan', True)\n",
      "\t('1156', 'b:ParameterQuery', 'Molecular weight', 1000.0, 'LessThan', True)\n"
     ]
    }
   ],
   "source": [
    "# With a chemical and a legacy category\n",
    "\n",
    "printTree(category_title = 'Benzotriazoles (Chronic toxicity)', one_chem = my_chem)\n"
   ]
  },
  {
   "cell_type": "markdown",
   "metadata": {},
   "source": [
    "Here, we can see exactly which constraints the chemical does and does not satisfy. Below, we will see that for new categories we get just the overall query result."
   ]
  },
  {
   "cell_type": "code",
   "execution_count": 21,
   "metadata": {},
   "outputs": [
    {
     "name": "stdout",
     "output_type": "stream",
     "text": [
      "('CustomQuery', 'LogicalQuery', 'And', False)\n",
      "\t('CustomQuery', 'b:ParameterQuery', 'Molecular Weight', 1000, 'LessThan', 'does not process')\n",
      "\t('CustomQuery', 'LogicalQuery', 'Or', 'does not process')\n",
      "\t\t('CustomQuery', 'b:StructureQuery', 'C1OC1', 'does not process')\n",
      "\t\t('CustomQuery', 'b:StructureQuery', 'C1CN1', 'does not process')\n"
     ]
    }
   ],
   "source": [
    "# With a chemical and a new category\n",
    "\n",
    "printTree(category_title = 'Epoxides', one_chem = my_chem)"
   ]
  },
  {
   "cell_type": "code",
   "execution_count": 22,
   "metadata": {},
   "outputs": [
    {
     "name": "stdout",
     "output_type": "stream",
     "text": [
      "('1159', 'LogicalQuery', 'And', 'does not process')\n",
      "\t('1148', 'b:StructureQuery', 'c12c(cccc1)[#7]=,:[#7][#7v3]2', 'does not process')\n",
      "\t('1150', 'b:ParameterQuery', 'log Kow', 5.0, 'GreaterThan', 'does not process')\n",
      "\t('1153', 'b:ParameterQuery', 'log Kow', 8.0, 'LessThan', 'does not process')\n",
      "\t('1156', 'b:ParameterQuery', 'Molecular weight', 1000.0, 'LessThan', 'does not process')\n"
     ]
    }
   ],
   "source": [
    "# Without a chemical\n",
    "\n",
    "printTree(category_title = 'Benzotriazoles (Chronic toxicity)')"
   ]
  },
  {
   "cell_type": "code",
   "execution_count": null,
   "metadata": {},
   "outputs": [],
   "source": []
  }
 ],
 "metadata": {
  "kernelspec": {
   "display_name": "py310",
   "language": "python",
   "name": "py310"
  },
  "language_info": {
   "codemirror_mode": {
    "name": "ipython",
    "version": 3
   },
   "file_extension": ".py",
   "mimetype": "text/x-python",
   "name": "python",
   "nbconvert_exporter": "python",
   "pygments_lexer": "ipython3",
   "version": "3.10.14"
  }
 },
 "nbformat": 4,
 "nbformat_minor": 4
}
